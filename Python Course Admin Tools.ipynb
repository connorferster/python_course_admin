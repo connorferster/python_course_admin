{
 "cells": [
  {
   "cell_type": "code",
   "execution_count": 1,
   "id": "444c2e5e-8143-4e85-8dd1-af6803ad3e84",
   "metadata": {},
   "outputs": [],
   "source": [
    "%load_ext autoreload\n",
    "%autoreload 2"
   ]
  },
  {
   "cell_type": "code",
   "execution_count": 1,
   "id": "933cfac1",
   "metadata": {},
   "outputs": [],
   "source": [
    "import course_admin\n",
    "# import pymsteams as teams\n",
    "import pathlib\n",
    "import exchangelib as ex\n",
    "# webhook_url = \"https://readjoneschristoffersen.webhook.office.com/webhookb2/d157c047-ac8a-43a7-988a-fbf1e338bb47@f18dbecd-434a-411d-8d13-643d6b83c112/IncomingWebhook/ba6bd07b1a6c486f84df588bab974f79/df20a355-7fbb-44b8-b199-b20cecaaf0ba\""
   ]
  },
  {
   "cell_type": "markdown",
   "id": "9758778e",
   "metadata": {},
   "source": [
    "# Administer Course\n",
    "\n",
    "nbgitpuller links for course materials. All links tested. Course materials hosted on connorferster repo\n",
    "### Lessons\n",
    "\n",
    "* Lesson 2: http://jupyter.rjc.local/hub/user-redirect/git-pull?repo=https%3A%2F%2Fgithub.com%2Fconnorferster%2FLesson_02&urlpath=tree%2FLesson_02%2FLesson+2.ipynb&branch=main\n",
    "* Lesson 3: http://jupyter.rjc.local/hub/user-redirect/git-pull?repo=https%3A%2F%2Fgithub.com%2Fconnorferster%2FLesson_03&urlpath=tree%2FLesson_03%2FLesson+3+-+Functions.ipynb&branch=main\n",
    "* Lesson 4: http://jupyter.rjc.local/hub/user-redirect/git-pull?repo=https%3A%2F%2Fgithub.com%2Fconnorferster%2FLesson_04&urlpath=tree%2FLesson_04%2FLesson+4+-+Loops+Ifs.ipynb&branch=main\n",
    "* Lesson 4 Advanced Topics: http://jupyter.rjc.local/hub/user-redirect/git-pull?repo=https%3A%2F%2Fgithub.com%2Fconnorferster%2FLesson_04_Advanced_Topics&urlpath=tree%2FLesson_04_Advanced_Topics%2FLesson_04_Advanced_Topics.ipynb&branch=main\n",
    "* Lesson 4.5: http://jupyter.rjc.local/hub/user-redirect/git-pull?repo=https%3A%2F%2Fgithub.com%2Fconnorferster%2FLesson_04.5&urlpath=tree%2FLesson_04.5%2FLesson_04.5.ipynb&branch=main\n",
    "* Lesson 5: http://jupyter.rjc.local/hub/user-redirect/git-pull?repo=https%3A%2F%2Fgithub.com%2Fconnorferster%2FLesson_05&urlpath=tree%2FLesson_05.git%2FLesson_05.ipynb&branch=main\n",
    "* Lesson 6: http://jupyter.rjc.local/hub/user-redirect/git-pull?repo=https%3A%2F%2Fgithub.com%2Fconnorferster%2FLesson_06&urlpath=tree%2FLesson_06%2FLesson_06.ipynb+&branch=main\n",
    "* Lesson 7: http://jupyter.rjc.local/hub/user-redirect/git-pull?repo=https%3A%2F%2Fgithub.com%2Fconnorferster%2FLesson_07&urlpath=tree%2FLesson_07%2FLesson+7.ipynb&branch=main\n",
    "* Lesson 8: http://jupyter.rjc.local/hub/user-redirect/git-pull?repo=https%3A%2F%2Fgithub.com%2Fconnorferster%2FLesson_08&urlpath=tree%2FLesson_08%2FLesson_08.ipynb+&branch=main\n",
    "* Lesson 9: http://jupyter.rjc.local/hub/user-redirect/git-pull?repo=https%3A%2F%2Fgithub.com%2Fconnorferster%2FLesson_09&urlpath=tree%2FLesson_09%2FLesson_09.ipynb&branch=main\n",
    "* Lesson 10: http://jupyter.rjc.local/hub/user-redirect/git-pull?repo=https%3A%2F%2Fgithub.com%2Fconnorferster%2FLesson_10&urlpath=tree%2FLesson_10%2FLesson_10.ipynb&branch=main\n",
    "\n",
    "### Workbooks\n",
    "\n",
    "* Workbook 1: http://jupyter.rjc.local/hub/user-redirect/git-pull?repo=https%3A%2F%2Fgithub.com%2Fconnorferster%2FWorkbook_01&urlpath=tree%2FWorkbook_01%2FWorkbook+1.ipynb&branch=main\n",
    "* Workbook 2: http://jupyter.rjc.local/hub/user-redirect/git-pull?repo=https%3A%2F%2Fgithub.com%2Fconnorferster%2FWorkbook_02&urlpath=tree%2FWorkbook_02%2FWorkbook+2.ipynb&branch=main\n",
    "* Workbook 3: http://jupyter.rjc.local/hub/user-redirect/git-pull?repo=https%3A%2F%2Fgithub.com%2Fconnorferster%2FWorkbook_03&urlpath=tree%2FWorkbook_03%2FWorkbook+3.ipynb&branch=main\n",
    "* Workbook 4: http://jupyter.rjc.local/hub/user-redirect/git-pull?repo=https%3A%2F%2Fgithub.com%2Fconnorferster%2FWorkbook_04&urlpath=tree%2FWorkbook_04%2FWorkbook+4.ipynb&branch=main\n",
    "* Workbook 5: http://jupyter.rjc.local/hub/user-redirect/git-pull?repo=https%3A%2F%2Fgithub.com%2Fconnorferster%2FWorkbook_05&urlpath=tree%2FWorkbook_05%2FWorkbook_05.ipynb&branch=main\n",
    "* Workbook 6: http://jupyter.rjc.local/hub/user-redirect/git-pull?repo=https%3A%2F%2Fgithub.com%2Fconnorferster%2FWorkbook_06&urlpath=tree%2FWorkbook_06%2FWorkbook_06.ipynb&branch=main\n",
    "* Workbook 7: http://jupyter.rjc.local/hub/user-redirect/git-pull?repo=https%3A%2F%2Fgithub.com%2Fconnorferster%2FWorkbook_07&urlpath=tree%2FWorkbook_07%2FWorkbook_07.ipynb&branch=main\n",
    "* Workbook 8: http://jupyter.rjc.local/hub/user-redirect/git-pull?repo=https%3A%2F%2Fgithub.com%2Fconnorferster%2FWorkbook_08&urlpath=tree%2FWorkbook_08%2FWorkbook_08.ipynb+&branch=main\n",
    "* Workbook 9: http://jupyter.rjc.local/hub/user-redirect/git-pull?repo=https%3A%2F%2Fgithub.com%2Fconnorferster%2FWorkbook_09&urlpath=tree%2FWorkbook_09%2FWorkbook_09.ipynb&branch=main\n",
    "\n",
    "**Note:** If the nbgitpuller link results in an error 128 during fetch, check to see if there is a directory already with the name of the repository in the directory. nbgitpuller will update existing directories if it exists but it seems to require the existing directory to be the exact same git directory as the one on the repo."
   ]
  },
  {
   "cell_type": "markdown",
   "id": "38fbfc56",
   "metadata": {},
   "source": [
    "## Send this week's lesson"
   ]
  },
  {
   "cell_type": "code",
   "execution_count": 2,
   "id": "4d907391",
   "metadata": {
    "collapsed": true,
    "jupyter": {
     "outputs_hidden": true,
     "source_hidden": true
    },
    "tags": []
   },
   "outputs": [
    {
     "data": {
      "text/plain": [
       "True"
      ]
     },
     "execution_count": 2,
     "metadata": {},
     "output_type": "execute_result"
    }
   ],
   "source": [
    "# my_teams = teams.connectorcard(webhook_url)\n",
    "# my_teams.text(\"\"\"Folks have been reporting some trouble getting the tests to run when installing your own Python package. I created this Lesson 09 supplement because I realized I had explained somethings in a fuzzy manner. Hopefully this can clarify:\n",
    "# \"\"\")\n",
    "# my_teams.addLinkButton(\"Click for Lesson 09 Supplement\", \"http://jupyter.rjc.local/hub/user-redirect/git-pull?repo=https%3A%2F%2Fgithub.com%2Fconnorferster%2FLesson_09&urlpath=tree%2FLesson_09%2FLesson_09_Supplement.ipynb&branch=main\")\n",
    "# # my_teams.printme()\n",
    "# my_teams.send()"
   ]
  },
  {
   "cell_type": "markdown",
   "id": "03627665",
   "metadata": {},
   "source": [
    "## Send this week's workbook"
   ]
  },
  {
   "cell_type": "code",
   "execution_count": 8,
   "id": "34e18ca3",
   "metadata": {
    "tags": []
   },
   "outputs": [
    {
     "data": {
      "text/plain": [
       "True"
      ]
     },
     "execution_count": 8,
     "metadata": {},
     "output_type": "execute_result"
    }
   ],
   "source": [
    "# my_teams = teams.connectorcard(webhook_url)\n",
    "# my_teams.text(\"\"\"Find a \"solution\" to Workbook 07, below:\n",
    "# \"\"\")\n",
    "# my_teams.addLinkButton(\"Click for Workbook 07 Solution:\", \"http://jupyter.rjc.local/hub/user-redirect/git-pull?repo=https%3A%2F%2Fgithub.com%2Fconnorferster%2FWorkbook_07&urlpath=tree%2FWorkbook_07%2FWorkbook_07_Solution.ipynb&branch=main\")\n",
    "# # my_teams.printme()\n",
    "# my_teams.send()"
   ]
  },
  {
   "cell_type": "markdown",
   "id": "456079ca",
   "metadata": {},
   "source": [
    "# Workbooks for Review"
   ]
  },
  {
   "cell_type": "code",
   "execution_count": 2,
   "id": "972352f8",
   "metadata": {},
   "outputs": [
    {
     "name": "stdin",
     "output_type": "stream",
     "text": [
      "Exchange pass: ····················\n"
     ]
    }
   ],
   "source": [
    "acct = course_admin.connect_to_rjc_exchange(\"cferster@rjc.ca\", \"cferster@rjc.ca\")"
   ]
  },
  {
   "cell_type": "code",
   "execution_count": 12,
   "id": "8f4b25f8",
   "metadata": {
    "scrolled": true
   },
   "outputs": [],
   "source": [
    "workbook_title = \"Workbook_03\"\n",
    "# q_1 = \"Is the task complete?\"\n",
    "# q_2 = \"Does the task run without error?\"\n",
    "# q_3 = \"If the task causes an error or is incomplete, use the solution sent this morning to compare and suggest what might be changed so that the cell runs without error.\"\n",
    "# person = \"Connor Ferster\"\n",
    "\n",
    "\n",
    "json_path = pathlib.Path.cwd() / workbook_title\n",
    "if not json_path.exists():\n",
    "    json_path.mkdir()\n",
    "email_body = (\"\"\"<html><body><p>Good morning! You have been given {person}'s notebook, {workbook_title}, for review. It is a little bit late today because I got caught up with work this morning XD</p>\n",
    "<p>Please save the attached notebook to your <b>{workbook_title} directory</b> so the notebook can access the \"beam_1.txt\", \"beam_2.txt\", and \"beam_3.txt\" files.</p>\n",
    "<p>For each task in the notebook, create a new <b>markdown cell</b> (keyboard shortcuts: in command mode, type 'b' for new cell below, 'm' to change to markdown cell) below the task response and answer the following <b>new</b> questions for the task:</p>\n",
    "<ol>\n",
    "<li> Is the task complete and does it run without error? (Y/N)\n",
    "<li> Does the task accomplish the goal of being able to use one script that works for all beam text input files? (Y/N)\n",
    "<li> If the task is incomplete or does not accomplish to goal completely, please provide feedback for how the developer could achieve the goal.\n",
    "</ol>\n",
    "<p>\n",
    "(You can copy and paste the above questions into the markdown cell with an answer beside them if you want).\n",
    "</p>\n",
    "<p>\n",
    "Once complete, save the notebook and return to me by <b>Tuesday @ 9:00am</b>. I will disseminate reviewed notebooks at that time.\n",
    "</p>\n",
    "</html></body>\n",
    "\"\"\")\n"
   ]
  },
  {
   "cell_type": "code",
   "execution_count": 14,
   "id": "1560323c-6aa7-46dd-8b31-b1f2ad8a7d35",
   "metadata": {},
   "outputs": [
    {
     "name": "stdout",
     "output_type": "stream",
     "text": [
      "Pairing: gsanderson@rjc.ca, APolkki@rjc.ca -> Sent: For Review: Workbook_03\n",
      "Pairing: CFerster@rjc.ca, jrumbold@rjc.ca -> Sent: For Review: Workbook_03\n"
     ]
    }
   ],
   "source": [
    "# Run to distribute\n",
    "\n",
    "if json_path.exists():\n",
    "    course_admin.send_workbooks_for_review(\n",
    "        folder_path=[\"Python_Course\", workbook_title],\n",
    "        account=acct,\n",
    "        json_path=json_path,\n",
    "        email_body=ex.HTMLBody(email_body),\n",
    "        test_print=False\n",
    "    )\n",
    "else:\n",
    "    print(\"Email path does not exist. No workbooks sent.\")"
   ]
  },
  {
   "cell_type": "markdown",
   "id": "81baef96",
   "metadata": {},
   "source": [
    "## Distribute Workbooks"
   ]
  },
  {
   "cell_type": "code",
   "execution_count": 4,
   "id": "a3cdd8af",
   "metadata": {},
   "outputs": [
    {
     "name": "stdin",
     "output_type": "stream",
     "text": [
      "Exchange pass: ····················\n"
     ]
    }
   ],
   "source": [
    "acct = course_admin.connect_to_rjc_exchange(\"cferster@rjc.ca\", \"cferster@rjc.ca\")"
   ]
  },
  {
   "cell_type": "markdown",
   "id": "89263af5",
   "metadata": {},
   "source": [
    "## Return Reviewed "
   ]
  },
  {
   "cell_type": "code",
   "execution_count": 3,
   "id": "31bcffa1",
   "metadata": {},
   "outputs": [
    {
     "name": "stdout",
     "output_type": "stream",
     "text": [
      "Unhappy members:  {'gsanderson@rjc.ca'}\n"
     ]
    }
   ],
   "source": [
    "workbook = \"Workbook_03\"\n",
    "reviewed_email_body = (\n",
    "    \"{name} reviewed your workbook for {workbook_title} and has returned it. \"\n",
    "    \"Please download the attachment and save to your Notebooks directory \"\n",
    "    \"to see their comments.\"\n",
    "    )\n",
    "json_path = pathlib.Path.cwd() / workbook / f\"{workbook}.json\"\n",
    "unhappy = course_admin.return_reviewed_notebooks([\"Python_Course\", f\"{workbook}_Review\"], acct, reviewed_email_body, json_path)\n",
    "course_admin.email_unhappy_members(unhappy, workbook, acct, json_path)"
   ]
  },
  {
   "cell_type": "code",
   "execution_count": null,
   "id": "dcb0d151-d074-45e6-89bd-f98b99018c0f",
   "metadata": {},
   "outputs": [],
   "source": []
  }
 ],
 "metadata": {
  "kernelspec": {
   "display_name": "Python 3 (ipykernel)",
   "language": "python",
   "name": "python3"
  },
  "language_info": {
   "codemirror_mode": {
    "name": "ipython",
    "version": 3
   },
   "file_extension": ".py",
   "mimetype": "text/x-python",
   "name": "python",
   "nbconvert_exporter": "python",
   "pygments_lexer": "ipython3",
   "version": "3.9.7"
  },
  "varInspector": {
   "cols": {
    "lenName": 16,
    "lenType": 16,
    "lenVar": 40
   },
   "kernels_config": {
    "python": {
     "delete_cmd_postfix": "",
     "delete_cmd_prefix": "del ",
     "library": "var_list.py",
     "varRefreshCmd": "print(var_dic_list())"
    },
    "r": {
     "delete_cmd_postfix": ") ",
     "delete_cmd_prefix": "rm(",
     "library": "var_list.r",
     "varRefreshCmd": "cat(var_dic_list()) "
    }
   },
   "types_to_exclude": [
    "module",
    "function",
    "builtin_function_or_method",
    "instance",
    "_Feature"
   ],
   "window_display": false
  }
 },
 "nbformat": 4,
 "nbformat_minor": 5
}
